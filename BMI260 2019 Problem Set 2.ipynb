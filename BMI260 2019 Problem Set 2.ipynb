{
 "cells": [
  {
   "cell_type": "markdown",
   "metadata": {},
   "source": [
    "# BIOMEDIN 260/RAD260: Problem Set 2 - Digital Image Processing\n",
    "\n",
    "## Spring 2019"
   ]
  },
  {
   "cell_type": "markdown",
   "metadata": {},
   "source": [
    "## Group Members\n",
    "\n",
    "**Person 1:**\n",
    "\n",
    "YOUR NAME HERE\n",
    "\n",
    "**Person 2:**\n",
    "\n",
    "YOUR NAME HERE"
   ]
  },
  {
   "cell_type": "markdown",
   "metadata": {},
   "source": [
    "Welcome to Problem Set 2!\n",
    "\n",
    "In this problem set, we will be exploring some fundamental concepts in digital image processing. We will be also be doing some math! Luckily, iPython notebooks have the additional ability of interpreting LaTeX ($\\LaTeX$) for typesetting mathematical expressions. For example:\n",
    "\n",
    "$$ f(t)*g(t) = \\int_{-\\infty}^{\\infty} f(\\tau)g(t-\\tau)d\\tau $$\n",
    "\n",
    "This says that a convolution is defined as the integral of the product of the two functions after one is reversed and shifted. Note the word reversed, as in the kernel is mirrored along both axes. Here's another example:\n",
    "\n",
    "$$y(x) = \\frac{\\sum_{i=2}^{i=3} x^i}{M}$$\n",
    "\n",
    "This says nothing meaningful. ¯`\\`_(ツ)_/¯\n",
    "\n",
    "If you are not familiar with $\\LaTeX$, don't worry! You can learn it very quickly just by doing this assignment. If you are looking for more practice, try some of [these](http://www.personal.ceu.hu/tex/cookbook.html) examples out."
   ]
  },
  {
   "cell_type": "markdown",
   "metadata": {},
   "source": [
    "## Problem 1: Linear Filtering (50 points) \n",
    "\n",
    "**a.** Image matrix $A$ consists of a small diamond surrounded by a layer of zeros. Compute the 2D convolution between image matrix $A$ and filter kernel $B$. The output image will be the same shape as the input image, so you can assume a single zero padding layer on each side of the image.\n",
    "\n",
    "We have given you the image matrix $A$ and the filter kernel $B$ in the cell below. First, do this 2D convolution by hand (good midterm practice!). Then, check your answer in the cell below that. *Hint: you may find a particular function in the `scipy.signal` package helpful for this task.*"
   ]
  },
  {
   "cell_type": "code",
   "execution_count": 1,
   "metadata": {},
   "outputs": [],
   "source": [
    "import numpy as np\n",
    "\n",
    "matA = np.array([[0., 0., 0., 0., 0.],\n",
    "                 [0., 0., 1., 0., 0.],\n",
    "                 [0., 1., 0., 1., 0.],\n",
    "                 [0., 0., 1., 0., 0.],\n",
    "                 [0., 0., 0., 0., 0.]])\n",
    "\n",
    "kerB = np.array([\n",
    "                 [1., 1., 1.],\n",
    "                 [1., 1., 1.],\n",
    "                 [1., 1., 1.],\n",
    "                ])"
   ]
  },
  {
   "cell_type": "code",
   "execution_count": null,
   "metadata": {},
   "outputs": [],
   "source": [
    "### WRITE CODE IN HERE. You can have up to 2 cells for this question, but only one is required #######\n",
    "\n",
    "\n",
    "\n",
    "######################################################################################################"
   ]
  },
  {
   "cell_type": "markdown",
   "metadata": {},
   "source": [
    "**b.** How does the output matrix compare to the original image matrix $A$? What type of filter is kernel $B$ acting as? Alternatively, if you divide the output image by np.sum(kerB), what have you essentially done to the image?"
   ]
  },
  {
   "cell_type": "markdown",
   "metadata": {},
   "source": [
    "**Answer:** YOUR WRITTEN ANSWER TO QUESTION 1b HERE"
   ]
  },
  {
   "cell_type": "markdown",
   "metadata": {},
   "source": [
    "**c.** Let matrix $O$ be the output from the 2D convolution between image matrix $C$ and kernel $D$. Compute $O$. \n",
    "\n",
    "The same way that we write out $C$ and $D$ for you, write out the output for us as a NumPy array, as in output the matrix $O$. You may choose to write out the full convolution (by zero-padding image matrix $C$ and then convolving with kernel $D$) or simply crop the output matrix to be the same size as the input matrix. Try this by hand first for some more midterm practice."
   ]
  },
  {
   "cell_type": "code",
   "execution_count": 2,
   "metadata": {},
   "outputs": [
    {
     "data": {
      "text/plain": [
       "array([[0., 1., 0., 1., 0.],\n",
       "       [0., 1., 0., 1., 0.],\n",
       "       [0., 1., 0., 1., 0.],\n",
       "       [0., 1., 0., 1., 0.],\n",
       "       [0., 1., 0., 1., 0.]])"
      ]
     },
     "execution_count": 2,
     "metadata": {},
     "output_type": "execute_result"
    }
   ],
   "source": [
    "# Create image matrix C.\n",
    "C = np.zeros((5, 5))\n",
    "C[:,[1,3]] = 1\n",
    "\n",
    "C"
   ]
  },
  {
   "cell_type": "code",
   "execution_count": 3,
   "metadata": {},
   "outputs": [
    {
     "data": {
      "text/plain": [
       "array([[-1,  0,  1]])"
      ]
     },
     "execution_count": 3,
     "metadata": {},
     "output_type": "execute_result"
    }
   ],
   "source": [
    "# Create filter kernel D.\n",
    "D = np.array([-1, 0, 1])\n",
    "D = np.expand_dims(D, 0)\n",
    "\n",
    "D"
   ]
  },
  {
   "cell_type": "code",
   "execution_count": null,
   "metadata": {},
   "outputs": [],
   "source": [
    "## WRITE MATRIX O IN HERE ######\n",
    "\n",
    "\n",
    "\n",
    "################################\n",
    "\n",
    "O"
   ]
  },
  {
   "cell_type": "markdown",
   "metadata": {},
   "source": [
    "**d.** How does the output matrix $O$ compare to the original image matrix $C$? In other words, what kind of a filter is kernel $D$?"
   ]
  },
  {
   "cell_type": "markdown",
   "metadata": {},
   "source": [
    "**Answer:** YOUR WRITTEN ANSWER TO QUESTION 1d HERE"
   ]
  },
  {
   "cell_type": "markdown",
   "metadata": {},
   "source": [
    "**e.** Convolve image matrix $C$ with kernel $E$ to get matrix $F$. How does $F$ differ from $E$? Again, try this by hand first for some more midterm practice."
   ]
  },
  {
   "cell_type": "code",
   "execution_count": 4,
   "metadata": {},
   "outputs": [
    {
     "data": {
      "text/plain": [
       "array([[-1],\n",
       "       [ 0],\n",
       "       [ 1]])"
      ]
     },
     "execution_count": 4,
     "metadata": {},
     "output_type": "execute_result"
    }
   ],
   "source": [
    "# Create filter kernel E.\n",
    "E = D.T\n",
    "\n",
    "E"
   ]
  },
  {
   "cell_type": "code",
   "execution_count": null,
   "metadata": {},
   "outputs": [],
   "source": [
    "# Convolve C and E to make F.#\n",
    "\n",
    "\n",
    "##############################\n",
    "\n",
    "F"
   ]
  },
  {
   "cell_type": "markdown",
   "metadata": {},
   "source": [
    "**Answer:** YOUR WRITTEN ANSWER TO QUESTION 1e HERE"
   ]
  },
  {
   "cell_type": "markdown",
   "metadata": {},
   "source": [
    "**f.** Import your favorite image as a NumPy array. Try to keep it reasonably sized (like 256-by-256) to avoid overly long computation times. If you don’t have a favorite image, you can create a matrix of zeros and ones to form shapes (like a disk or rectangle).\n",
    "\n",
    "Apply some additive white Gaussian noise to your image. There are many ways to do this, and you should choose your favorite method! Next, try to smooth out your noisy image using your favorite linear smoothing filter.\n",
    "\n",
    "Show all three images (the original image, the noisy image, and the smoothed noisy image) side-by-side using `plt.subplots()`.\n",
    "\n",
    "Play around with the level of noise as well as the smoothing filter parameters. At what level of noise can you no longer distinguish the main features of the original image? \n",
    "\n",
    "As the level of noise increases, how should you adjust your smoothing filter parameters? What is the main downside to smoothing images?\n"
   ]
  },
  {
   "cell_type": "code",
   "execution_count": null,
   "metadata": {},
   "outputs": [],
   "source": [
    "### DISPLAY IMAGES HERE. #############################################################################\n",
    "\n",
    "\n",
    "\n",
    "######################################################################################################"
   ]
  },
  {
   "cell_type": "markdown",
   "metadata": {},
   "source": [
    "**Answer:** YOUR WRITTEN ANSWER TO QUESTION 1f HERE"
   ]
  },
  {
   "cell_type": "markdown",
   "metadata": {},
   "source": [
    "**g.** Try applying a linear edge detection kernel (such as a central finite difference kernel or Sobel operator) to both your original image and the noisy image. How does it do?"
   ]
  },
  {
   "cell_type": "markdown",
   "metadata": {},
   "source": [
    "**Answer:** YOUR WRITTEN ANSWER TO QUESTION 1g HERE"
   ]
  },
  {
   "cell_type": "markdown",
   "metadata": {},
   "source": [
    "**h.** Assume we are working with an 1D input image $I(x)$ (though this could be easily generalized to 2D or 3D). Suppose we create a new type of filter defined as:\n",
    "\n",
    "$$I'(x) = \\frac{\\sum_{i}I(x_i)f(x_i -x)}{\\sum_{i}f(x_i -x)}$$\n",
    "\n",
    "\n",
    "where $I'(x)$ is the output image, $f(x)$ is an zero-mean Gaussian function, and $i$ indexes over pixels that are close to $x$.\n",
    "\n",
    "What kind of filter is this? For example, is it linear or non-linear? Is it a low-pass filter or a high-pass filter? (Hint: you may have seen a similar type of filter in this problem.)"
   ]
  },
  {
   "cell_type": "markdown",
   "metadata": {},
   "source": [
    "**Answer:** YOUR WRITTEN ANSWER TO QUESTION 1h HERE"
   ]
  },
  {
   "cell_type": "markdown",
   "metadata": {},
   "source": [
    "**i.** How does this filter perform at edges and boundaries within the image? Why? Write an expression for a new filter that attempts to address this problem. Is your new filter still linear?\n",
    "\n",
    "\n",
    "Hint: introduce a function $g(\\ldots)$ into the above expression that encourages the preservation of edges. \n",
    "\n",
    "$$I'(x) = \\frac{\\sum_{i}I(x_i)f(x_i - x)g(\\ldots)}{\\sum_{i}f(x_i -x)g(\\ldots)}$$"
   ]
  },
  {
   "cell_type": "markdown",
   "metadata": {},
   "source": [
    "**Answer:** YOUR WRITTREN ANSWER TO QUESTION 1i HERE"
   ]
  },
  {
   "cell_type": "markdown",
   "metadata": {},
   "source": [
    "**j.** Linear smoothing filters are an efficient way to reduce the presence of noise in the image at the cost of lowering image resolution and blurring out edges. Several non-linear filters were developed to both reduce noise while attempting to preserve the high frequency edges in the image. Choose a non-linear de-noising filter and apply it to your noisy image from part *f*. How well does it do compared to the image that was de-noised using a linear smoothing filter?"
   ]
  },
  {
   "cell_type": "code",
   "execution_count": null,
   "metadata": {},
   "outputs": [],
   "source": [
    "### WRITE CODE IN HERE. ##############################################################################\n",
    "\n",
    "\n",
    "\n",
    "######################################################################################################"
   ]
  },
  {
   "cell_type": "markdown",
   "metadata": {},
   "source": [
    "**Answer:** YOUR WRITTEN ANSWER TO QUESTION 1j HERE"
   ]
  },
  {
   "cell_type": "markdown",
   "metadata": {},
   "source": [
    "## Problem 2: Geometric Features (20 points)\n",
    "\n",
    "As you may recall from class, the geometric features of a tumor can sometimes reveal significant information about whether it is benign or malignant. [Radiologists frequently assess the geometry of lesions in mammograms when attempting to diagnose breast cancer](https://www.sciencedirect.com/science/article/pii/S2211568413003872).\n",
    "\n",
    "In this exercise, we will attempt to explore some quantitative methods of differentiating between certain lesion shapes.\n",
    "\n",
    "Download the two mammograms from Canvas. `LEFT_CC_BENIGN.tif` depicts a cranial-caudal view (looking down on the breast from the patient's perspective) of the left breast. There is a benign lesion present in the mammogram. Can you locate it? \n",
    "\n",
    "If you are having difficulty locating the lesion, try seeing if you can spot it in the mask `LEFT_CC_BENIGN_MASK.tif`, which consists of a rough segmentation of the lesion. `RIGHT_CC_MALIGNANT.tif` and `RIGHT_CC_MALIGNANT_MASK.tif` are the mammogram and corresponding lesion segmentation of a different patient, but this mammogram depicts a breast with a **malignant** tumor."
   ]
  },
  {
   "cell_type": "markdown",
   "metadata": {},
   "source": [
    "**a.** Start by loading these two mammograms and their corresponding masks as image matrices. Plot them on a single figure (using a 2-by-2 grid of subplots). You should use reasonable **x** and **y** limits in your figures to get a reasonable depiction of your lesion segmentations.\n",
    "\n",
    "Qualitatively describe the shape differences between the two lesions. What types of shapes and margins are indicative of malignant tumors?"
   ]
  },
  {
   "cell_type": "code",
   "execution_count": null,
   "metadata": {},
   "outputs": [],
   "source": [
    "import pydicom as dcm\n",
    "import matplotlib.pyplot as plt\n",
    "from skimage.filters import threshold_otsu\n",
    "%matplotlib inline\n",
    "\n",
    "## Load mammograms showing benign and malignant tumors.\n",
    "img_benign = plt.imread('LEFT_CC_BENIGN.tif')\n",
    "mask_benign = plt.imread('LEFT_CC_BENIGN_MASK.tif')\n",
    "\n",
    "img_malignant = plt.imread('RIGHT_CC_MALIGNANT.tif')\n",
    "mask_malignant = plt.imread('RIGHT_CC_MALIGNANT_MASK.tif')\n",
    "\n",
    "## Plotting code here.\n",
    "fig = plt.figure(figsize=(20, 20))\n",
    "\n",
    "### WRITE CODE IN HERE. You can have up to 2 cells for this question, but only one is required #######\n",
    "\n",
    "\n",
    "\n",
    "######################################################################################################\n",
    "\n",
    "fig.tight_layout() # Fixes spacing between subplots."
   ]
  },
  {
   "cell_type": "markdown",
   "metadata": {},
   "source": [
    "**Answer:** YOUR WRITTEN ANSWER TO QUESTION 2a HERE"
   ]
  },
  {
   "cell_type": "markdown",
   "metadata": {},
   "source": [
    "**b.** Next, try computing some basic geometric features of the two lesions. Which features are the most significant for differentiating between them? Is this what you expected? The `regionprops()` function in the `skimage` library will automatically compute several geometric features for you, but you might choose to code up some of your own. If you don't trust the provided segmentations, feel free to create your segmentation method or modify the provided ones to get a better estimate of the lesion shapes! Finally, it could be interesting to apply some edge-detection filters to the mammograms to better emphasize the margins. \n",
    "\n",
    "You can also test your approach on other mammograms from a [larger dataset (~20 GB)](https://www.dropbox.com/sh/y0k6wokrq5fibpa/AAC43nULYqhI_cLu555qy2nla?dl=0). You will need these mammograms for the next problem set, so there's no harm in downloading the images now!\n",
    "\n",
    "**There is no single correct answer for this exercise, and you should definitely try several different approaches and explore!**"
   ]
  },
  {
   "cell_type": "markdown",
   "metadata": {},
   "source": [
    "**Answer:** YOUR WRITTEN ANSWER TO QUESTION 2b HERE"
   ]
  },
  {
   "cell_type": "code",
   "execution_count": null,
   "metadata": {},
   "outputs": [],
   "source": [
    "from skimage.measure import regionprops\n",
    "\n",
    "### WRITE CODE IN HERE. You can have up to 2 cells for this question, but only one is required #######\n",
    "\n",
    "\n",
    "\n",
    "######################################################################################################"
   ]
  },
  {
   "cell_type": "markdown",
   "metadata": {},
   "source": [
    "## Problem 3: Textural Features (30 points)\n"
   ]
  },
  {
   "cell_type": "markdown",
   "metadata": {},
   "source": [
    "**a.** Compute the gray level co-occurrence matrix (GLCM) of image matrix $A$ below using an offset of $\\Delta i=1$ and $\\Delta j=0$. Do not make any assumptions about located values outside image matrix $A$ (only count co-occurrences of pixels located within the image boundary). Try to do this by hand first, but feel free to check your answer using your preferred method for computing GLCMs (*Hint: see `skimage.feature`'s `greycomatrix` function*). Also, please make sure your GLCM is a reasonable size. You don't need to show portions of the GLCM that are mainly comprised of zeroes.\n",
    "\n",
    "\n",
    "$\n",
    "A = \n",
    "\\begin{pmatrix}\n",
    "2 & 1 & 2 & 1 & 2 \\\\\n",
    "1 & 2 & 1 & 2 & 1 \\\\\n",
    "2 & 1 & 2 & 1 & 2 \\\\\n",
    "1 & 2 & 1 & 2 & 1 \\\\\n",
    "2 & 1 & 2 & 1 & 2 \\\\\n",
    "\\end{pmatrix}\n",
    "$"
   ]
  },
  {
   "cell_type": "markdown",
   "metadata": {},
   "source": [
    "**Answer:**\n",
    "\n",
    "GLCM($A$) = YOUR WRITTEN ANSWER TO QUESTION 3a HERE"
   ]
  },
  {
   "cell_type": "code",
   "execution_count": null,
   "metadata": {},
   "outputs": [],
   "source": [
    "# Creating matrix A.\n",
    "A = np.ones((25))\n",
    "A[::2] = 2\n",
    "A = np.reshape(A, (5,5))\n",
    "A = np.uint8(A)\n",
    "\n",
    "print(\"A:\")\n",
    "print(A)\n",
    "print()\n",
    "\n",
    "### WRITE CODE IN HERE. You can have up to 2 cells for this question, but only one is required #######\n",
    "\n",
    "# Compute the GLCM for matrix A.\n",
    "\n",
    "\n",
    "\n",
    "\n",
    "print('GLCM(A):')\n",
    "# Print it out here.\n",
    "\n",
    "######################################################################################################"
   ]
  },
  {
   "cell_type": "markdown",
   "metadata": {},
   "source": [
    "**b.** Try computing the GLCM of matrix $A$ using a different offset of $\\Delta i=2$ and $\\Delta j=0$ as well as with an offset of $\\Delta i=1$ and $\\Delta j=-1$. How does it compare to your GLCM from part a?"
   ]
  },
  {
   "cell_type": "code",
   "execution_count": null,
   "metadata": {},
   "outputs": [],
   "source": [
    "### WRITE CODE IN HERE. You can have up to 2 cells for this question, but only one is required #######\n",
    "\n",
    "# Compute the GLCM for matrix A with an offset of (2, 0).\n",
    "\n",
    "print('GLCM(A) - offset of (2, 0):')\n",
    "# Print it out here.\n",
    "\n",
    "print()\n",
    "\n",
    "# Compute the GLCM for matrix A with an offset of (1, -1).\n",
    "\n",
    "print('GLCM(A) - offset of (-1, -1):')\n",
    "# Print it out here.\n",
    "\n",
    "######################################################################################################"
   ]
  },
  {
   "cell_type": "markdown",
   "metadata": {},
   "source": [
    "**Answer:** YOUR WRITTEN ANSWER TO QUESTION 3b HERE"
   ]
  },
  {
   "cell_type": "markdown",
   "metadata": {},
   "source": [
    "**c.** Suppose you are working on a computer-aided detection algorithm for diagnosing hepatocellular carcinoma (HCC). You have written some code to perform textural analysis on several CT scans of the liver, and the first step in your processing pipeline involves computing GLCMs of various sub-sections of each CT scan to try and differentiate between healthy liver tissue and potential lesions. \n",
    "\n",
    "Your friend is attempting to set up a similar computer-aided detection algorithm for diagnosing HCC, except he/she is planning to do the diagnosis based on a series of ultrasound B-mode images rather than CT scans. You lend your friend your textural analysis code, but it doesn't work well at all on the ultrasound images. It has difficulty differentiating between normal tissue and abnormal findings, even in the most obvious of cases.\n",
    "\n",
    "Why doesn't the code work well? How might you and your friend go about fixing this issue? Briefly justify your answers."
   ]
  },
  {
   "cell_type": "markdown",
   "metadata": {},
   "source": [
    "**Answer:** YOUR WRITTEN ANSWER TO QUESTION 3c HERE"
   ]
  },
  {
   "cell_type": "markdown",
   "metadata": {},
   "source": [
    "**d.** Previously, we have computed GLCMs over the entire image, which is generally not useful. Any subtle changes in lesion texture could make a significant difference in terms of the radiologist's diagnosis, but it might only result in a minimal change in the image's GLCM. A simple solution is to break the image down into chunks and compute a localized GLCM of each image chunk.\n",
    "\n",
    "Try doing this on one of the provided mammograms. Iterate through the full mammogram and extract overlapping chunks (similar to what you would do when computing a 2D convolution), then compute the GLCM of each chunk. From each GLCM, compute your favorite Haralick texture feature and save it to a separate matrix. If you've done this correctly, you should be able to produce a textural feature map that is about the same size as your image. Plot this texture map alongside the original image. Does it look like what you expect? Why or why not?\n",
    "\n",
    "**Tips:**\n",
    "1. This could take really long ~ > 10 mins. If your code is taking too long to run, try downsampling the mammogram to a more reasonable size.\n",
    "2. Don't worry too much about how the kernel behaves near the edges of the image, since these image regions are generally not as important.\n",
    "3. You can choose whatever offsets you'd like when computing the GLCM. It is typical for researchers to make their textural features rotation-invariant by averaging features from multiple GLCMs computed using offsets oriented in all directions, and you can choose to do this if you want.\n",
    "4. Explore different kernel sizes!"
   ]
  },
  {
   "cell_type": "code",
   "execution_count": null,
   "metadata": {},
   "outputs": [],
   "source": [
    "### WRITE CODE IN HERE. You can have up to 3 cells for this question ################################\n",
    "\n",
    "\n",
    "\n",
    "######################################################################################################"
   ]
  },
  {
   "cell_type": "markdown",
   "metadata": {},
   "source": [
    "## Problem 4: Interpolation (10 pts)\n",
    "\n",
    "<img src =\"interp.jpg\" style=\"max-width:100%; width: 50%\">\n",
    "\n",
    "We have an isotropic 2D pixel that is 1mm on each side. The values at each corner of the square are given by variables $A$ through $D$.  Derive the equation for the linearly interpolated value along the diagonal from $C$ to $B$ as a parametric function of $t$ where: \n",
    "\n",
    "$ t = 0 $ at $C$\n",
    "\n",
    "$ t = 1 $ at $B$\n",
    "\n",
    "$x = y = t $\n",
    "\n",
    "For example, if this were a line containing only $A$ and $B$ where $t = 0$ at $A$ and $t = 1$ at $B$, then the linearly interpolated value along that line would be:\n",
    "\n",
    "$f(t,A,B) = (1-x)A + Bx =  (1-t)A + Bt$\n",
    "\n",
    "Find $ f(t,A,B,C,D) $."
   ]
  },
  {
   "cell_type": "markdown",
   "metadata": {},
   "source": [
    "**Answer:** YOUR WRITTEN ANSWER TO QUESTION 4 HERE"
   ]
  }
 ],
 "metadata": {
  "kernelspec": {
   "display_name": "Python 3",
   "language": "python",
   "name": "python3"
  },
  "language_info": {
   "codemirror_mode": {
    "name": "ipython",
    "version": 3
   },
   "file_extension": ".py",
   "mimetype": "text/x-python",
   "name": "python",
   "nbconvert_exporter": "python",
   "pygments_lexer": "ipython3",
   "version": "3.6.8"
  }
 },
 "nbformat": 4,
 "nbformat_minor": 2
}
